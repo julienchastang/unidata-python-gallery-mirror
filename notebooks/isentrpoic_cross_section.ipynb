{
  "cells": [
    {
      "cell_type": "code",
      "execution_count": null,
      "metadata": {
        "collapsed": false
      },
      "outputs": [],
      "source": [
        "%matplotlib inline"
      ]
    },
    {
      "cell_type": "markdown",
      "metadata": {},
      "source": [
        "\nIsentropic Cross-section\n========================\n\nMake an isentropic cross section with MetPy\n\nWith the function `metpy.calc.extract_cross_section`, data can be extracted from 3-dimensional\ninput along a specified line and plotted in a 2-dimensional cross-section.\n\n![](../_static/cross_section.gif)\n\n\n\n"
      ]
    },
    {
      "cell_type": "code",
      "execution_count": null,
      "metadata": {
        "collapsed": false
      },
      "outputs": [],
      "source": [
        "import cartopy.crs as ccrs\nimport cartopy.feature as cfeature\nimport ipywidgets as widgets\nfrom ipywidgets import interact_manual\nimport matplotlib.pyplot as plt\nimport metpy.calc as mcalc\nfrom metpy.units import units\nfrom netCDF4 import num2date\nimport numpy as np\nfrom siphon.ncss import NCSS"
      ]
    },
    {
      "cell_type": "markdown",
      "metadata": {},
      "source": [
        "**Getting the data**\n\nIn this example, NARR reanalysis data for 18 UTC 04 April 1987 from the National Centers\nfor Environmental Information (https://nomads.ncdc.noaa.gov) will be used.\n\n"
      ]
    },
    {
      "cell_type": "code",
      "execution_count": null,
      "metadata": {
        "collapsed": false
      },
      "outputs": [],
      "source": [
        "# Link to NetCDF subset service for NAM analysis data\nncss = NCSS('https://nomads.ncdc.noaa.gov/thredds/ncss/grid/narr-a/198704/19870404/'\n            'narr-a_221_19870404_1800_000.grb')\n\n# Bring in needed data\nmodeldata = ncss.query().all_times()\nmodeldata.variables('Geopotential_height',\n                    'u_wind',\n                    'v_wind',\n                    'Temperature',\n                    'Specific_humidity').add_lonlat()\n# Set the lat/lon box for the data you want to pull in.\n# lonlat_box(north_lat,south_lat,east_lon,west_lon)\nmodeldata.lonlat_box(-140, -60, 16, 60)\n\n# Actually getting the data\ndata = ncss.get_data(modeldata)"
      ]
    },
    {
      "cell_type": "code",
      "execution_count": null,
      "metadata": {
        "collapsed": false
      },
      "outputs": [],
      "source": [
        "print(list(data.variables))"
      ]
    },
    {
      "cell_type": "markdown",
      "metadata": {},
      "source": [
        "We will reduce the dimensionality of the data as it is pulled in to remove an empty time\ndimension. Additionally, units are required for input data, so the proper units will also\nbe attached.\n\n"
      ]
    },
    {
      "cell_type": "code",
      "execution_count": null,
      "metadata": {
        "collapsed": false
      },
      "outputs": [],
      "source": [
        "# Assign data to variable names\ndtime = data.variables['Geopotential_height'].dimensions[0]\ndlev = data.variables['Geopotential_height'].dimensions[1]\nlat = data.variables['lat'][:]\nlon = data.variables['lon'][:]\nlev = data.variables[dlev][:] * units(data.variables[dlev].units)\ntimes = data.variables[dtime]\nvtimes = num2date(times[:], times.units)\n\ntemps = data.variables['Temperature']\ntmp = temps[0, :] * units.kelvin\nuwnd = data.variables['u_wind'][0, :] * units(data.variables['u_wind'].units)\nvwnd = data.variables['v_wind'][0, :] * units(data.variables['v_wind'].units)\nhgt = data.variables['Geopotential_height'][0, :] * units.meter\nspech = (data.variables['Specific_humidity'][0, :] *\n         units(data.variables['Specific_humidity'].units))"
      ]
    },
    {
      "cell_type": "markdown",
      "metadata": {},
      "source": [
        "Create the coordinate system and projection for plotting the inset map\n\n"
      ]
    },
    {
      "cell_type": "code",
      "execution_count": null,
      "metadata": {
        "collapsed": false
      },
      "outputs": [],
      "source": [
        "crs = ccrs.LambertConformal(central_longitude=-100.0, central_latitude=45.0)\ntlatlons = crs.transform_points(ccrs.PlateCarree(), lon, lat)\ntlons = tlatlons[:, :, 0]\ntlats = tlatlons[:, :, 1]"
      ]
    },
    {
      "cell_type": "markdown",
      "metadata": {},
      "source": [
        "Get data to plot state and province boundaries\n\n"
      ]
    },
    {
      "cell_type": "code",
      "execution_count": null,
      "metadata": {
        "collapsed": false
      },
      "outputs": [],
      "source": [
        "states_provinces = cfeature.NaturalEarthFeature(category='cultural',\n                                                name='admin_1_states_provinces_lakes',\n                                                scale='50m',\n                                                facecolor='none')"
      ]
    },
    {
      "cell_type": "markdown",
      "metadata": {},
      "source": [
        "Define a 2-D lat/lon index function to find the nearest grid point to a specified coordinate\n\n"
      ]
    },
    {
      "cell_type": "code",
      "execution_count": null,
      "metadata": {
        "collapsed": false
      },
      "outputs": [],
      "source": [
        "def lat_lon_2d_index(y, x, lat1, lon1):\n    \"\"\"Calculate the index values of the grid point nearest a given lat/lon point.\n\n    This function calculates the distance from a desired lat/lon point\n    to each element of a 2D array of lat/lon values, typically from model output,\n    and determines the index value corresponding to the nearest lat/lon grid point.\n\n    y = latitude array\n    x = longitude array\n    lon1 = longitude point (signle value)\n    lat1 = latitude point (single value)\n\n    Returns the index value for nearest lat/lon point on grid\n\n    Equations for variable distiance between longitudes from\n    http://andrew.hedges.name/experiments/haversine/, code by Kevin Goebbert.\n    \"\"\"\n    r = 6373. * 1000.  # Earth's Radius in meters\n    rad = np.pi / 180.\n    x1 = np.ones(x.shape) * lon1\n    y1 = np.ones(y.shape) * lat1\n    dlon = np.abs(x - x1)\n    dlat = np.abs(y - y1)\n    a = (np.sin(rad * dlat / 2.))**2 + (np.cos(rad * y1) * np.cos(rad * y) *\n                                        (np.sin(rad * dlon / 2.))**2)\n    c = 2 * np.arctan2(np.sqrt(a), np.sqrt(1 - a))\n    d = r * c\n    return np.unravel_index(d.argmin(), d.shape)"
      ]
    },
    {
      "cell_type": "markdown",
      "metadata": {},
      "source": [
        "**Insentropic Cross Section**\n\nWith the projection set up, we will define the endpoints, extract the\ncross-sectional data, and plot with an inset map.\n\n"
      ]
    },
    {
      "cell_type": "code",
      "execution_count": null,
      "metadata": {
        "collapsed": false
      },
      "outputs": [],
      "source": [
        "def cross_section(isentlev, num, left_lat, left_lon, right_lat, right_lon):\n    \"\"\"Plot an isentropic cross-section.\"\"\"\n    # get the coordinates of the endpoints for the cross-section\n    left_coord = np.array((float(left_lat), float(left_lon)))\n    right_coord = np.array((float(right_lat), float(right_lon)))\n\n    # Calculate data for the inset isentropic map\n    isent_anal = mcalc.isentropic_interpolation(float(isentlev) * units.kelvin, lev, tmp,\n                                                spech, tmpk_out=True)\n    isentprs = isent_anal[0]\n    isenttmp = isent_anal[1]\n    isentspech = isent_anal[2]\n    isentrh = mcalc.relative_humidity_from_specific_humidity(isentspech, isenttmp, isentprs)\n\n    # Find index values for the cross section slice\n    iright = lat_lon_2d_index(lat, lon, right_coord[0], right_coord[1])\n    ileft = lat_lon_2d_index(lat, lon, left_coord[0], left_coord[1])\n\n    # Get the cross-section slice data\n    cross_data = mcalc.extract_cross_section(ileft, iright, lat, lon, tmp, uwnd, vwnd, spech,\n                                             num=num)\n    cross_lat = cross_data[0]\n    cross_lon = cross_data[1]\n    cross_t = cross_data[2]\n    cross_u = cross_data[3]\n    cross_v = cross_data[4]\n    cross_spech = cross_data[5]\n\n    # Calculate theta and RH on the cross-section\n    cross_theta = mcalc.potential_temperature(lev[:, np.newaxis], cross_t)\n    cross_rh = mcalc.relative_humidity_from_specific_humidity(cross_spech, cross_t,\n                                                              lev[:, np.newaxis])\n\n    # Create figure for ploting\n    fig = plt.figure(1, figsize=(17., 12.))\n\n    # Plot the cross section\n    ax1 = plt.axes()\n    ax1.set_yscale('symlog')\n    ax1.grid()\n    cint = np.arange(250, 450, 5)\n\n    # Determine whether to label x-axis with lat or lon values\n    if np.abs(left_lon - right_lon) > np.abs(left_lat - right_lat):\n        cs = ax1.contour(cross_lon, lev[::-1], cross_theta[::-1, :], cint, colors='tab:red')\n        cf = ax1.contourf(cross_lon, lev[::-1], cross_rh[::-1, :], range(10, 106, 5),\n                          cmap=plt.cm.gist_earth_r)\n        ax1.barbs(cross_lon[4::4], lev, cross_u[:, 4::4], cross_v[:, 4::4], length=6)\n        plt.xlabel('Longitude (Degrees East)')\n    else:\n        cs = ax1.contour(cross_lat[::-1], lev[::-1], cross_theta[::-1, ::-1], cint,\n                         colors='tab:red')\n        cf = ax1.contourf(cross_lat[::-1], lev[::-1], cross_rh[::-1, ::-1], range(10, 106, 5),\n                          cmap=plt.cm.gist_earth_r)\n        ax1.barbs(cross_lat[::-4], lev, cross_u[:, ::-4], cross_v[:, ::-4], length=6)\n        plt.xlim(cross_lat[0], cross_lat[-1])\n        plt.xlabel('Latitude (Degrees North)')\n\n    # Label the cross section axes\n    plt.clabel(cs, fontsize=10, inline=1, inline_spacing=7,\n               fmt='%i', rightside_up=True, use_clabeltext=True)\n    cb = plt.colorbar(cf, orientation='horizontal', extend=max, aspect=65, shrink=0.75,\n                      pad=0.06, extendrect='True')\n    cb.set_label('Relative Humidity', size='x-large')\n    plt.ylabel('Pressure (hPa)')\n    ax1.set_yticklabels(np.arange(1000, 50, -50))\n    plt.ylim(lev[0], lev[-1])\n    plt.yticks(np.arange(1000, 50, -50))\n\n    # Add a title\n    plt.title(('NARR Isentropic Cross-Section: ' + str(left_coord[0]) + ' N, ' +\n               str(left_coord[1]) + ' E  to ' + str(right_coord[0]) + ' N, ' +\n               str(right_coord[1]) + ' E'), loc='left')\n    plt.title('VALID: {:s}'.format(str(vtimes[0])), loc='right')\n\n    # Add Inset Map\n    ax2 = fig.add_axes([0.125, 0.643, 0.25, 0.25], projection=crs)\n\n    # Coordinates to limit map area\n    bounds = [(-122., -75., 25., 50.)]\n\n    # Limit extent of inset map\n    ax2.set_extent(*bounds, crs=ccrs.PlateCarree())\n    ax2.coastlines('50m', edgecolor='black', linewidth=0.75)\n    ax2.add_feature(states_provinces, edgecolor='black', linewidth=0.5)\n\n    # Plot the surface\n    clevisent = np.arange(0, 1000, 25)\n    cs = ax2.contour(tlons, tlats, isentprs[0, :, :], clevisent,\n                     colors='k', linewidths=1.0, linestyles='solid')\n    plt.clabel(cs, fontsize=10, inline=1, inline_spacing=7,\n               fmt='%i', rightside_up=True, use_clabeltext=True)\n\n    # Plot RH\n    cf = ax2.contourf(tlons, tlats, isentrh[0, :, :], range(10, 106, 5),\n                      cmap=plt.cm.gist_earth_r)\n\n    # Convert endpoints of cross-section line\n    left = crs.transform_point(left_coord[1], left_coord[0], ccrs.PlateCarree())\n    right = crs.transform_point(right_coord[1], right_coord[0], ccrs.PlateCarree())\n\n    # Plot the cross section line\n    plt.plot([left[0], right[0]], [left[1], right[1]], color='r')\n    plt.show()\n\n\n# Finally, call the plotting function and show the map interactively\ninteract_manual(cross_section,\n                isentlev=widgets.IntSlider(min=280, max=330, step=1, value=296,\n                                           description='Isentropic Level'),\n                num=widgets.IntSlider(min=20, max=500, step=10, value=80,\n                                      description='Sampling Points'),\n                left_lat=widgets.FloatSlider(min=0., max=90., step=.5, value=37.,\n                                             description='West Lat (N)'),\n                left_lon=widgets.FloatSlider(min=-150, max=-45, step=0.5, value=-105.,\n                                             description='West Lon (E)'),\n                right_lat=widgets.FloatSlider(min=0., max=90., step=.5, value=35.5,\n                                              description='East Lat (N)'),\n                right_lon=widgets.FloatSlider(min=-150, max=-45, step=.5, value=-65.,\n                                              description='East Lon (E)'))"
      ]
    }
  ],
  "metadata": {
    "kernelspec": {
      "display_name": "Python 3",
      "language": "python",
      "name": "python3"
    },
    "language_info": {
      "codemirror_mode": {
        "name": "ipython",
        "version": 3
      },
      "file_extension": ".py",
      "mimetype": "text/x-python",
      "name": "python",
      "nbconvert_exporter": "python",
      "pygments_lexer": "ipython3",
      "version": "3.6.7"
    }
  },
  "nbformat": 4,
  "nbformat_minor": 0
}