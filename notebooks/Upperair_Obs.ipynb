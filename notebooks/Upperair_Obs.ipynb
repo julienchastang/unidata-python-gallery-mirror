{
  "cells": [
    {
      "cell_type": "code",
      "execution_count": null,
      "metadata": {
        "collapsed": false
      },
      "outputs": [],
      "source": [
        "%matplotlib inline"
      ]
    },
    {
      "cell_type": "markdown",
      "metadata": {},
      "source": [
        "\nDIFAX Replication\n=================\n\nThis example replicates the traditional DIFAX images for upper-level\nobservations.\n\nBy: Kevin Goebbert\n\nObservation data comes from Iowa State Archive, accessed through the\nSiphon package. Contour data comes from the GFS 0.5 degree analysis.\nClassic upper-level data of Geopotential Height and Temperature are\nplotted.\n"
      ]
    },
    {
      "cell_type": "code",
      "execution_count": null,
      "metadata": {
        "collapsed": false
      },
      "outputs": [],
      "source": [
        "from datetime import datetime, timedelta\nimport urllib.request\n\nimport cartopy.crs as ccrs\nimport cartopy.feature as cfeature\nimport matplotlib.pyplot as plt\nimport metpy.calc as mpcalc\nfrom metpy.plots import StationPlot\nfrom metpy.units import units\nimport numpy as np\nfrom siphon.simplewebservice.iastate import IAStateUpperAir\nimport xarray as xr"
      ]
    },
    {
      "cell_type": "markdown",
      "metadata": {},
      "source": [
        "Plotting High/Low Symbols\n-------------------------\n\nA helper function to plot a text symbol (e.g., H, L) for relative\nmaximum/minimum for a given field (e.g., geopotential height).\n\n\n"
      ]
    },
    {
      "cell_type": "code",
      "execution_count": null,
      "metadata": {
        "collapsed": false
      },
      "outputs": [],
      "source": [
        "def plot_maxmin_points(lon, lat, data, extrema, nsize, symbol, color='k',\n                       plotValue=True, transform=None):\n    \"\"\"\n    This function will find and plot relative maximum and minimum for a 2D grid. The function\n    can be used to plot an H for maximum values (e.g., High pressure) and an L for minimum\n    values (e.g., low pressue). It is best to used filetered data to obtain  a synoptic scale\n    max/min value. The symbol text can be set to a string value and optionally the color of the\n    symbol and any plotted value can be set with the parameter color.\n\n    Parameters\n    ----------\n        lon : 2D array\n            Plotting longitude values\n        lat : 2D array\n            Plotting latitude values\n        data : 2D array\n            Data that you wish to plot the max/min symbol placement\n        extrema : str\n            Either a value of max for Maximum Values or min for Minimum Values\n        nsize : int\n            Size of the grid box to filter the max and min values to plot a reasonable number\n        symbol : str\n            Text to be placed at location of max/min value\n        color : str\n            Name of matplotlib colorname to plot the symbol (and numerical value, if plotted)\n        plot_value : Boolean (True/False)\n            Whether to plot the numeric value of max/min point\n\n    Return\n    ------\n        The max/min symbol will be plotted on the current axes within the bounding frame\n        (e.g., clip_on=True)\n    \"\"\"\n    from scipy.ndimage.filters import maximum_filter, minimum_filter\n\n    if (extrema == 'max'):\n        data_ext = maximum_filter(data, nsize, mode='nearest')\n    elif (extrema == 'min'):\n        data_ext = minimum_filter(data, nsize, mode='nearest')\n    else:\n        raise ValueError('Value for hilo must be either max or min')\n\n    if lon.ndim == 1:\n        lon, lat = np.meshgrid(lon, lat)\n\n    mxx, mxy = np.where(data_ext == data)\n\n    for i in range(len(mxy)):\n        ax.text(lon[mxx[i], mxy[i]], lat[mxx[i], mxy[i]], symbol, color=color, size=36,\n                clip_on=True, horizontalalignment='center', verticalalignment='center',\n                transform=transform)\n        ax.text(lon[mxx[i], mxy[i]], lat[mxx[i], mxy[i]],\n                '\\n' + str(np.int(data[mxx[i], mxy[i]])),\n                color=color, size=12, clip_on=True, fontweight='bold',\n                horizontalalignment='center', verticalalignment='top', transform=transform)\n        ax.plot(lon[mxx[i], mxy[i]], lat[mxx[i], mxy[i]], marker='o', markeredgecolor='black',\n                markerfacecolor='white', transform=transform)\n        ax.plot(lon[mxx[i], mxy[i]], lat[mxx[i], mxy[i]],\n                marker='x', color='black', transform=transform)"
      ]
    },
    {
      "cell_type": "markdown",
      "metadata": {},
      "source": [
        "Station Information\n-------------------\n\nA helper function for obtaining radiosonde station information (e.g.,\nlatitude/longitude) requried to plot data obtained from each station.\nOriginal code by github user sgdecker.\n\n\n"
      ]
    },
    {
      "cell_type": "code",
      "execution_count": null,
      "metadata": {
        "collapsed": false
      },
      "outputs": [],
      "source": [
        "def station_info(stid):\n    r\"\"\"Provide information about weather stations.\n\n    Parameters\n    ----------\n    stid: str or iterable object containing strs\n         The ICAO or IATA code(s) for which station information is requested.\n    with_units: bool\n         Whether to include units for values that have them. Default True.\n\n    Returns\n    -------\n    info: dict\n         Information about the station(s) within a dictionary with these keys:\n             'state': Two-character ID of the state/province where the station is located,\n                       if applicable\n             'name': The name of the station\n             'lat': The latitude of the station [deg]\n             'lon': The longitude of the station [deg]\n             'elevation': The elevation of the station [m]\n             'country': Two-character ID of the country where the station is located\n\n    Modified code from Steven Decker, Rutgers University\n\n    \"\"\"\n    # Provide a helper function for later usage\n    def str2latlon(s):\n        deg = float(s[:3])\n        mn = float(s[-3:-1])\n        if s[-1] == 'S' or s[-1] == 'W':\n            deg = -deg\n            mn = -mn\n        return deg + mn / 60.\n\n    # Various constants describing the underlying data\n    url = 'https://www.aviationweather.gov/docs/metar/stations.txt'\n    # file = 'stations.txt'\n    state_bnds = slice(0, 2)\n    name_bnds = slice(3, 19)\n    icao_bnds = slice(20, 24)\n    iata_bnds = slice(26, 29)\n    lat_bnds = slice(39, 45)\n    lon_bnds = slice(47, 54)\n    z_bnds = slice(55, 59)\n    cntry_bnds = slice(81, 83)\n\n    # Generalize to any number of IDs\n    if isinstance(stid, str):\n        stid = [stid]\n\n    # Get the station dataset\n    infile = urllib.request.urlopen(url)\n    data = infile.readlines()\n#     infile = open(file, 'rb')\n#     data = infile.readlines()\n\n    state = []\n    name = []\n    lat = []\n    lon = []\n    z = []\n    cntry = []\n\n    for s in stid:\n        s = s.upper()\n        for line_bytes in data:\n            line = line_bytes.decode('UTF-8')\n            icao = line[icao_bnds]\n            iata = line[iata_bnds]\n            if len(s) == 3 and s in iata or len(s) == 4 and s in icao:\n                state.append(line[state_bnds].strip())\n                name.append(line[name_bnds].strip())\n                lat.append(str2latlon(line[lat_bnds]))\n                lon.append(str2latlon(line[lon_bnds]))\n                z.append(float(line[z_bnds]))\n                cntry.append(line[cntry_bnds])\n\n                break\n        else:\n            state.append('NA')\n            name.append('NA')\n            lat.append(np.nan)\n            lon.append(np.nan)\n            z.append(np.nan)\n            cntry.append('NA')\n\n    infile.close()\n\n    return {'state': np.array(state), 'name': np.array(name), 'lat': np.array(lat),\n            'lon': np.array(lon), 'elevation': np.array(z), 'country': np.array(cntry),\n            'units': {'lat': 'deg', 'lon': 'deg', 'z': 'm'}}"
      ]
    },
    {
      "cell_type": "markdown",
      "metadata": {},
      "source": [
        "Observation Data\n----------------\n\nSet a date and time for upper-air observations (should only be 00 or 12\nUTC for the hour).\n\nRequest all data from Iowa State using the Siphon package. The result is\na pandas DataFrame containing all of the sounding data from all\navailable stations.\n\n\n"
      ]
    },
    {
      "cell_type": "code",
      "execution_count": null,
      "metadata": {
        "collapsed": false
      },
      "outputs": [],
      "source": [
        "# Set date for desired UPA data\ntoday = datetime.utcnow()\n\n# Go back one day to ensure data availability\ndate = datetime(today.year, today.month, today.day, 0) - timedelta(days=1)\n\n# Request data using Siphon request for data from Iowa State Archive\ndata = IAStateUpperAir.request_all_data(date)"
      ]
    },
    {
      "cell_type": "markdown",
      "metadata": {},
      "source": [
        "Subset Observational Data\n-------------------------\n\nFrom the request above will give all levels from all radisonde sites\navailable through the service. For plotting a pressure surface map there\nis only need to have the data from that level. Below the data is subset\nand a few parameters set based on the level chosen. Additionally, the\nstation information is obtained and latitude and longitude data is added\nto the DataFrame.\n\n\n"
      ]
    },
    {
      "cell_type": "code",
      "execution_count": null,
      "metadata": {
        "collapsed": false
      },
      "outputs": [],
      "source": [
        "level = 500\n\nif (level == 925) | (level == 850) | (level == 700):\n    cint = 30\n    def hght_format(v): return format(v, '.0f')[1:]\nelif level == 500:\n    cint = 60\n    def hght_format(v): return format(v, '.0f')[:3]\nelif level == 300:\n    cint = 120\n    def hght_format(v): return format(v, '.0f')[:3]\nelif level < 300:\n    cint = 120\n    def hght_format(v): return format(v, '.0f')[1:4]\n\n# Create subset of all data for a given level\ndata_subset = data.pressure == level\ndf = data[data_subset]\n\n# Get station lat/lon from look-up file; add to Dataframe\nstn_info = station_info(list(df.station.values))\ndf.insert(10, 'latitude', stn_info['lat'])\ndf.insert(11, 'longitude', stn_info['lon'])"
      ]
    },
    {
      "cell_type": "markdown",
      "metadata": {},
      "source": [
        "Gridded Data\n------------\n\nObtain GFS gridded output for contour plotting. Specifically,\ngeopotential height and temperature data for the given level and subset\nfor over North America. Data are smoothed for aesthetic reasons.\n\n\n"
      ]
    },
    {
      "cell_type": "code",
      "execution_count": null,
      "metadata": {
        "collapsed": false
      },
      "outputs": [],
      "source": [
        "# Get GFS data and subset to North America for Geopotential Height and Temperature\nds = xr.open_dataset('https://thredds.ucar.edu/thredds/dodsC/grib/NCEP/GFS/Global_0p5deg_ana/'\n                     'GFS_Global_0p5deg_ana_{0:%Y%m%d}_{0:%H}00.grib2'.format(\n                         date)).metpy.parse_cf()\n\n# Geopotential height and smooth\nhght = ds.Geopotential_height_isobaric.metpy.sel(\n    vertical=level*units.hPa, time=date, lat=slice(70, 15), lon=slice(360-145, 360-50))\nsmooth_hght = mpcalc.smooth_n_point(hght, 9, 10)\n\n# Temperature, smooth, and convert to Celsius\ntmpk = ds.Temperature_isobaric.metpy.sel(\n    vertical=level*units.hPa, time=date, lat=slice(70, 15), lon=slice(360-145, 360-50))\nsmooth_tmpc = (mpcalc.smooth_n_point(tmpk, 9, 10)).to('degC')"
      ]
    },
    {
      "cell_type": "markdown",
      "metadata": {},
      "source": [
        "Create DIFAX Replication\n------------------------\n\nPlot the observational data and contours on a Lambert Conformal map and\nadd features that resemble the historic DIFAX maps.\n\n\n"
      ]
    },
    {
      "cell_type": "code",
      "execution_count": null,
      "metadata": {
        "collapsed": false
      },
      "outputs": [],
      "source": [
        "# Set up map coordinate reference system\nmapcrs = ccrs.LambertConformal(\n    central_latitude=45, central_longitude=-100, standard_parallels=(30, 60))\n\n# Set up station locations for plotting observations\npoint_locs = mapcrs.transform_points(\n    ccrs.PlateCarree(), df['longitude'].values, df['latitude'].values)\n\n# Start figure and set graphics extent\nfig = plt.figure(1, figsize=(17, 15))\nax = plt.subplot(111, projection=mapcrs)\nax.set_extent([-125, -70, 20, 55])\n\n# Add map features for geographic reference\nax.add_feature(cfeature.COASTLINE.with_scale('50m'), edgecolor='grey')\nax.add_feature(cfeature.LAND.with_scale('50m'), facecolor='white')\nax.add_feature(cfeature.STATES.with_scale('50m'), edgecolor='grey')\n\n# Plot plus signs every degree lat/lon\nplus_lat = []\nplus_lon = []\nother_lat = []\nother_lon = []\n\nfor x in hght.lon.values[::2]:\n    for y in hght.lat.values[::2]:\n        if (x % 5 == 0) | (y % 5 == 0):\n            plus_lon.append(x)\n            plus_lat.append(y)\n        else:\n            other_lon.append(x)\n            other_lat.append(y)\nax.scatter(other_lon, other_lat, s=5, marker='o',\n           transform=ccrs.PlateCarree(), color='lightgrey', zorder=-1)\nax.scatter(plus_lon, plus_lat, s=30, marker='+',\n           transform=ccrs.PlateCarree(), color='lightgrey', zorder=-1)\n\n# Add gridlines for every 5 degree lat/lon\nax.gridlines(linestyle='solid', ylocs=range(15, 71, 5), xlocs=range(-150, -49, 5))\n\n# Start the station plot by specifying the axes to draw on, as well as the\n# lon/lat of the stations (with transform). We also the fontsize to 10 pt.\nstationplot = StationPlot(ax, df['longitude'].values, df['latitude'].values, clip_on=True,\n                          transform=ccrs.PlateCarree(), fontsize=10)\n\n# Plot the temperature and dew point to the upper and lower left, respectively, of\n# the center point.\nstationplot.plot_parameter('NW', df['temperature'], color='black')\nstationplot.plot_parameter('SW', df['dewpoint'], color='black')\n\n# A more complex example uses a custom formatter to control how the geopotential height\n# values are plotted. This is set in an earlier if-statement to work appropriate for\n# different levels.\nstationplot.plot_parameter('NE', df['height'], formatter=hght_format)\n\n# Add wind barbs\nstationplot.plot_barb(df['u_wind'], df['v_wind'], length=7, pivot='tip')\n\n# Plot Solid Contours of Geopotential Height\ncs = ax.contour(hght.lon, hght.lat, smooth_hght,\n                range(0, 20000, cint), colors='black', transform=ccrs.PlateCarree())\nclabels = plt.clabel(cs, fmt='%d', colors='white', inline_spacing=5, use_clabeltext=True)\n\n# Contour labels with black boxes and white text\nfor t in clabels:\n    t.set_bbox({'facecolor': 'black', 'pad': 4})\n    t.set_fontweight('heavy')\n\n# Plot Dashed Contours of Temperature\ncs2 = ax.contour(hght.lon, hght.lat, smooth_tmpc, range(-60, 51, 5),\n                 colors='black', transform=ccrs.PlateCarree())\nclabels = plt.clabel(cs2, fmt='%d', colors='white', inline_spacing=5, use_clabeltext=True)\n\n# Set longer dashes than default\nfor c in cs2.collections:\n    c.set_dashes([(0, (5.0, 3.0))])\n\n# Contour labels with black boxes and white text\nfor t in clabels:\n    t.set_bbox({'facecolor': 'black', 'pad': 4})\n    t.set_fontweight('heavy')\n\n# Plot filled circles for Radiosonde Obs\nax.scatter(df['longitude'].values, df['latitude'].values, s=12,\n           marker='o', color='black', transform=ccrs.PlateCarree())\n\n# Use definition to plot H/L symbols\nplot_maxmin_points(hght.lon, hght.lat, smooth_hght.m, 'max', 50,\n                   symbol='H', color='black', transform=ccrs.PlateCarree())\nplot_maxmin_points(hght.lon, hght.lat, smooth_hght.m, 'min', 25,\n                   symbol='L', color='black', transform=ccrs.PlateCarree())\n\n# Add titles\nplt.title('Upper-air Observations at {}-hPa Analysis Heights/Temperature'.format(level),\n          loc='left')\nplt.title('Valid: {}'.format(date), loc='right')\n\nplt.show()"
      ]
    }
  ],
  "metadata": {
    "kernelspec": {
      "display_name": "Python [conda env:notebook-gallery]",
      "language": "python",
      "name": "conda-env-notebook-gallery-py"
    },
    "language_info": {
      "codemirror_mode": {
        "name": "ipython",
        "version": 3
      },
      "file_extension": ".py",
      "mimetype": "text/x-python",
      "name": "python",
      "nbconvert_exporter": "python",
      "pygments_lexer": "ipython3",
      "version": "3.7.3"
    }
  },
  "nbformat": 4,
  "nbformat_minor": 0
}
