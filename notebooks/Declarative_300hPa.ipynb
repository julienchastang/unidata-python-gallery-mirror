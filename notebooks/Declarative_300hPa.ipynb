{
  "cells": [
    {
      "cell_type": "code",
      "execution_count": null,
      "metadata": {
        "collapsed": false
      },
      "outputs": [],
      "source": [
        "%matplotlib inline"
      ]
    },
    {
      "cell_type": "markdown",
      "metadata": {},
      "source": [
        "\nMetPy Declarative - 300 hPa\n===========================\n\nBy: Kevin Goebbert\n\nThis example uses the declarative syntax available through the MetPy\npackage to allow a more convenient method for creating simple maps of\natmospheric data. The key thing the declarative language does is to\nreduce the number of packages that users will need to know in detail and\ninstead allow them to set key parameters to get the map they desire. One\nkey element is the use of xarray as the data object, which allows\ncoordinate information to be associated with atmospheric variables.\n"
      ]
    },
    {
      "cell_type": "code",
      "execution_count": null,
      "metadata": {
        "collapsed": false
      },
      "outputs": [],
      "source": [
        "from datetime import datetime\n\nimport metpy.calc as mpcalc\nimport metpy.plots as mpplots\nfrom metpy.units import units\nimport xarray as xr"
      ]
    },
    {
      "cell_type": "markdown",
      "metadata": {},
      "source": [
        "Open dataset using xarray module and subset global GFS to be over the\nCONUS.\n\n\n"
      ]
    },
    {
      "cell_type": "code",
      "execution_count": null,
      "metadata": {
        "collapsed": false
      },
      "outputs": [],
      "source": [
        "ds = xr.open_dataset('https://thredds.ucar.edu/thredds/dodsC/casestudies/python-gallery/'\n                     'GFS_20101026_1200.nc').sel(lon=slice(360-150, 360-50, 2),\n                                                 lat=slice(65, 20, 2))"
      ]
    },
    {
      "cell_type": "markdown",
      "metadata": {},
      "source": [
        "Calculate Variable and Add to Dataset\n-------------------------------------\n\nHere it is demonstrated how you can calculate a new variable and add it\nto the xarray dataset (ds) so that it can be plotted with the\ndeclarative syntax. The key to adding a variable to an xarray dataset\nfor use in the declarative syntax is the need to add a ``grid_mapping``\nand ``units`` attribute.\n\n\n"
      ]
    },
    {
      "cell_type": "code",
      "execution_count": null,
      "metadata": {
        "collapsed": false
      },
      "outputs": [],
      "source": [
        "# Calculate New Variables and place into Xarray Dataset\nuwnd = ds['u-component_of_wind_isobaric']\nvwnd = ds['v-component_of_wind_isobaric']\n\n# Compute wind speed using MetPy\nwspd = mpcalc.wind_speed(uwnd, vwnd)\n\n# Place wind speed (wspd) into xarray dataset and attach needed attributes\nds = ds.assign(wind_speed=(tuple(uwnd.coords)[:4], wspd.m,\n                           {'grid_mapping': uwnd.attrs['grid_mapping'],\n                            'units': str(wspd.units)}))\n\n# Convert wind speed units to knots within the dataset\nds.wind_speed.metpy.convert_units('kt')\nds['u-component_of_wind_isobaric'].metpy.convert_units('kt')\nds['v-component_of_wind_isobaric'].metpy.convert_units('kt')"
      ]
    },
    {
      "cell_type": "markdown",
      "metadata": {},
      "source": [
        "Declarative Plot\n----------------\n\nThe following settings create a single panel map plot of 300 hPa\ngeopotential heights, wind speed, and wind barbs.\n\n\n"
      ]
    },
    {
      "cell_type": "code",
      "execution_count": null,
      "metadata": {
        "collapsed": false
      },
      "outputs": [],
      "source": [
        "# Countour Plot of Geopotential Heights\ncontour = mpplots.ContourPlot()\ncontour.data = ds\ncontour.time = datetime(2010, 10, 31, 12)\ncontour.field = 'Geopotential_height_isobaric'\ncontour.level = 300 * units.hPa\ncontour.linecolor = 'black'\ncontour.linestyle = '-'\ncontour.linewidth = 2\ncontour.clabels = True\ncontour.contours = list(range(0, 20000, 120))\n\n# Colorfilled Plot of Wind Speed\ncfill = mpplots.FilledContourPlot()\ncfill.data = ds\ncfill.field = 'wind_speed'\ncfill.level = 300 * units.hPa\ncfill.colormap = 'BuPu'\ncfill.contours = list(range(50, 171, 20))\ncfill.colorbar = 'vertical'\n\n# Plot wind barbs\nbarb = mpplots.BarbPlot()\nbarb.data = ds\nbarb.level = 300 * units.hPa\nbarb.field = ['u-component_of_wind_isobaric', 'v-component_of_wind_isobaric']\nbarb.skip = (3, 3)\nbarb.color = 'black'\nbarb.barblength = 6.5\nbarb.earth_relative = False\n\n# Panel for plot with Map features\npanel = mpplots.MapPanel()\npanel.layout = (1, 1, 1)\npanel.area = (-124, -72, 20, 53)\npanel.projection = 'lcc'\npanel.layers = ['coastline', 'borders', 'states', 'land']\npanel.plots = [cfill, contour, barb]\n\n# Bringing it all together\npc = mpplots.PanelContainer()\npc.size = (15, 9)\npc.panels = [panel]\n\npc.show()"
      ]
    }
  ],
  "metadata": {
    "kernelspec": {
      "display_name": "Python [conda env:notebook-gallery]",
      "language": "python",
      "name": "conda-env-notebook-gallery-py"
    },
    "language_info": {
      "codemirror_mode": {
        "name": "ipython",
        "version": 3
      },
      "file_extension": ".py",
      "mimetype": "text/x-python",
      "name": "python",
      "nbconvert_exporter": "python",
      "pygments_lexer": "ipython3",
      "version": "3.7.3"
    }
  },
  "nbformat": 4,
  "nbformat_minor": 0
}
